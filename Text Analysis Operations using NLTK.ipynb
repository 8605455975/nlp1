{
 "cells": [
  {
   "cell_type": "markdown",
   "id": "d61ee78c",
   "metadata": {},
   "source": [
    "# Text Analysis Operations using NLTK"
   ]
  },
  {
   "cell_type": "markdown",
   "id": "dfe0a9d5",
   "metadata": {},
   "source": [
    "NLTK is a powerful Python package that provides a set of diverse natural language algorithms. It is free, open source, easy to use, large community, and well documented. NLTK consists of the most common algorithms such as tokenizing, part-of-speech tagging, stemming, sentiment analysis, topic segmentation, and named entity recognition. NLTK helps the computer to analyze, preprocess, and understand the written text."
   ]
  },
  {
   "cell_type": "markdown",
   "id": "54cb1681",
   "metadata": {},
   "source": [
    "In this tutorial, you are going to cover the following topics:\n",
    "\n",
    "Text Analytics and NLP\n",
    "\n",
    "Compare Text Analytics, NLP, and Text Mining\n",
    "\n",
    "Text Analysis Operations using NLTK\n",
    "\n",
    "Tokenization\n",
    "\n",
    "Stopwords\n",
    "\n",
    "Lexicon Normalization such as Stemming and Lemmatization\n",
    "\n",
    "POS Tagging"
   ]
  },
  {
   "cell_type": "code",
   "execution_count": 1,
   "id": "f4282498",
   "metadata": {},
   "outputs": [],
   "source": [
    "import nltk\n",
    "from nltk.corpus import stopwords\n",
    "from nltk.tokenize import word_tokenize\n",
    "from nltk.stem import PorterStemmer, WordNetLemmatizer\n",
    "from nltk import ngrams\n",
    "import string"
   ]
  },
  {
   "cell_type": "code",
   "execution_count": 2,
   "id": "765f56b5",
   "metadata": {},
   "outputs": [
    {
     "name": "stderr",
     "output_type": "stream",
     "text": [
      "[nltk_data] Downloading package punkt to\n",
      "[nltk_data]     C:\\Users\\COMP\\AppData\\Roaming\\nltk_data...\n",
      "[nltk_data]   Package punkt is already up-to-date!\n",
      "[nltk_data] Downloading package stopwords to\n",
      "[nltk_data]     C:\\Users\\COMP\\AppData\\Roaming\\nltk_data...\n",
      "[nltk_data]   Package stopwords is already up-to-date!\n",
      "[nltk_data] Downloading package wordnet to\n",
      "[nltk_data]     C:\\Users\\COMP\\AppData\\Roaming\\nltk_data...\n",
      "[nltk_data]   Package wordnet is already up-to-date!\n",
      "[nltk_data] Downloading package averaged_perceptron_tagger to\n",
      "[nltk_data]     C:\\Users\\COMP\\AppData\\Roaming\\nltk_data...\n",
      "[nltk_data]   Package averaged_perceptron_tagger is already up-to-\n",
      "[nltk_data]       date!\n"
     ]
    },
    {
     "data": {
      "text/plain": [
       "True"
      ]
     },
     "execution_count": 2,
     "metadata": {},
     "output_type": "execute_result"
    }
   ],
   "source": [
    "# Download NLTK resources\n",
    "nltk.download('punkt')\n",
    "nltk.download('stopwords')\n",
    "nltk.download('wordnet')\n",
    "nltk.download('averaged_perceptron_tagger')"
   ]
  },
  {
   "cell_type": "code",
   "execution_count": 3,
   "id": "62621602",
   "metadata": {},
   "outputs": [],
   "source": [
    "sentence =\"“Setting goals is the first step in turning the invisible into the visible.”\""
   ]
  },
  {
   "cell_type": "code",
   "execution_count": 4,
   "id": "a633fb2d",
   "metadata": {},
   "outputs": [
    {
     "name": "stdout",
     "output_type": "stream",
     "text": [
      "Trimmed Sentence: “Setting goals is the first step in turning the invisible into the visible.”\n"
     ]
    }
   ],
   "source": [
    "# 1. Trim the unwanted spaces\n",
    "trimmed_sentence = sentence.strip()\n",
    "print(\"Trimmed Sentence:\", trimmed_sentence)"
   ]
  },
  {
   "cell_type": "code",
   "execution_count": 5,
   "id": "623f80cf",
   "metadata": {},
   "outputs": [
    {
     "name": "stdout",
     "output_type": "stream",
     "text": [
      "Lowercase Sentence: “setting goals is the first step in turning the invisible into the visible.”\n"
     ]
    }
   ],
   "source": [
    "# 2. Convert the text to lowercase\n",
    "lowercase_sentence = trimmed_sentence.lower()\n",
    "print(\"Lowercase Sentence:\", lowercase_sentence)"
   ]
  },
  {
   "cell_type": "code",
   "execution_count": 8,
   "id": "465b63b7",
   "metadata": {},
   "outputs": [
    {
     "name": "stdout",
     "output_type": "stream",
     "text": [
      "Tokenized Text: ['“', 'setting', 'goals', 'is', 'the', 'first', 'step', 'in', 'turning', 'the', 'invisible', 'into', 'the', 'visible', '.', '”']\n",
      "Vocabulary: {'“', 'invisible', 'turning', 'in', 'into', 'goals', '”', 'is', 'visible', 'the', 'step', '.', 'setting', 'first'}\n"
     ]
    }
   ],
   "source": [
    "# 3. Tokenize the text and determine its vocabulary\n",
    "tokens = word_tokenize(lowercase_sentence)\n",
    "vocabulary = set(tokens)\n",
    "print(\"Tokenized Text:\", tokens)\n",
    "print(\"Vocabulary:\", vocabulary)\n"
   ]
  },
  {
   "cell_type": "code",
   "execution_count": 9,
   "id": "82d01cb4",
   "metadata": {},
   "outputs": [
    {
     "name": "stdout",
     "output_type": "stream",
     "text": [
      "Tokens without Stopwords: ['“', 'setting', 'goals', 'first', 'step', 'turning', 'invisible', 'visible', '.', '”']\n"
     ]
    }
   ],
   "source": [
    "# 4. Remove stop words\n",
    "stop_words = set(stopwords.words('english'))\n",
    "filtered_tokens = [token for token in tokens if token not in stop_words]\n",
    "print(\"Tokens without Stopwords:\", filtered_tokens)"
   ]
  },
  {
   "cell_type": "code",
   "execution_count": 10,
   "id": "b0e2961d",
   "metadata": {},
   "outputs": [
    {
     "name": "stdout",
     "output_type": "stream",
     "text": [
      "Tokens without Punctuation: ['“', 'setting', 'goals', 'first', 'step', 'turning', 'invisible', 'visible', '”']\n"
     ]
    }
   ],
   "source": [
    "# 5. Remove punctuation\n",
    "filtered_tokens_no_punct = [token for token in filtered_tokens if token not in string.punctuation]\n",
    "print(\"Tokens without Punctuation:\", filtered_tokens_no_punct)"
   ]
  },
  {
   "cell_type": "code",
   "execution_count": 11,
   "id": "30cf135f",
   "metadata": {},
   "outputs": [
    {
     "name": "stderr",
     "output_type": "stream",
     "text": [
      "[nltk_data] Downloading package omw-1.4 to\n",
      "[nltk_data]     C:\\Users\\COMP\\AppData\\Roaming\\nltk_data...\n",
      "[nltk_data]   Package omw-1.4 is already up-to-date!\n"
     ]
    },
    {
     "data": {
      "text/plain": [
       "True"
      ]
     },
     "execution_count": 11,
     "metadata": {},
     "output_type": "execute_result"
    }
   ],
   "source": [
    "nltk.download('omw-1.4')"
   ]
  },
  {
   "cell_type": "code",
   "execution_count": 12,
   "id": "72a7b039",
   "metadata": {},
   "outputs": [
    {
     "name": "stdout",
     "output_type": "stream",
     "text": [
      "Stemmed Tokens: ['“', 'set', 'goal', 'first', 'step', 'turn', 'invis', 'visibl', '”']\n",
      "Lemmatized Tokens: ['“', 'setting', 'goal', 'first', 'step', 'turning', 'invisible', 'visible', '”']\n"
     ]
    }
   ],
   "source": [
    "# 6. Normalize the text using stemming and lemmatization\n",
    "ps = PorterStemmer()\n",
    "stemmed_tokens = [ps.stem(token) for token in filtered_tokens_no_punct]\n",
    "\n",
    "lemmatizer = WordNetLemmatizer()\n",
    "lemmatized_tokens = [lemmatizer.lemmatize(token) for token in filtered_tokens_no_punct]\n",
    "print(\"Stemmed Tokens:\", stemmed_tokens)\n",
    "print(\"Lemmatized Tokens:\", lemmatized_tokens)"
   ]
  },
  {
   "cell_type": "code",
   "execution_count": 13,
   "id": "3878e4f4",
   "metadata": {},
   "outputs": [
    {
     "name": "stdout",
     "output_type": "stream",
     "text": [
      "2-grams: [('“', 'setting'), ('setting', 'goals'), ('goals', 'first'), ('first', 'step'), ('step', 'turning'), ('turning', 'invisible'), ('invisible', 'visible'), ('visible', '”')]\n"
     ]
    }
   ],
   "source": [
    "# 7. Create n grams from text\n",
    "n = 2  # You can change this to create different n-grams\n",
    "n_grams = list(ngrams(filtered_tokens_no_punct, n))\n",
    "print(f\"{n}-grams:\", n_grams)"
   ]
  },
  {
   "cell_type": "code",
   "execution_count": null,
   "id": "4924f232",
   "metadata": {},
   "outputs": [],
   "source": []
  },
  {
   "cell_type": "code",
   "execution_count": 18,
   "id": "67027824",
   "metadata": {},
   "outputs": [
    {
     "name": "stderr",
     "output_type": "stream",
     "text": [
      "[nltk_data] Downloading package punkt to\n",
      "[nltk_data]     C:\\Users\\COMP\\AppData\\Roaming\\nltk_data...\n",
      "[nltk_data]   Package punkt is already up-to-date!\n",
      "[nltk_data] Downloading package stopwords to\n",
      "[nltk_data]     C:\\Users\\COMP\\AppData\\Roaming\\nltk_data...\n",
      "[nltk_data]   Package stopwords is already up-to-date!\n",
      "[nltk_data] Downloading package wordnet to\n",
      "[nltk_data]     C:\\Users\\COMP\\AppData\\Roaming\\nltk_data...\n",
      "[nltk_data]   Package wordnet is already up-to-date!\n",
      "[nltk_data] Downloading package averaged_perceptron_tagger to\n",
      "[nltk_data]     C:\\Users\\COMP\\AppData\\Roaming\\nltk_data...\n",
      "[nltk_data]   Package averaged_perceptron_tagger is already up-to-\n",
      "[nltk_data]       date!\n"
     ]
    },
    {
     "data": {
      "text/plain": [
       "True"
      ]
     },
     "execution_count": 18,
     "metadata": {},
     "output_type": "execute_result"
    }
   ],
   "source": [
    "import nltk\n",
    "import matplotlib.pyplot as plt\n",
    "from nltk import FreqDist, pos_tag\n",
    "from nltk.corpus import stopwords\n",
    "from nltk.stem import WordNetLemmatizer\n",
    "from nltk.tokenize import word_tokenize\n",
    "import string\n",
    "\n",
    "# Download NLTK resources\n",
    "nltk.download('punkt')\n",
    "nltk.download('stopwords')\n",
    "nltk.download('wordnet')\n",
    "nltk.download('averaged_perceptron_tagger')"
   ]
  },
  {
   "cell_type": "code",
   "execution_count": 19,
   "id": "cd631c5b",
   "metadata": {},
   "outputs": [],
   "source": [
    "# Tokenize the sentence\n",
    "tokens = word_tokenize(sentence.lower())"
   ]
  },
  {
   "cell_type": "code",
   "execution_count": 20,
   "id": "a7ec3990",
   "metadata": {},
   "outputs": [
    {
     "name": "stdout",
     "output_type": "stream",
     "text": [
      "Number of Unique Tokens: 14\n"
     ]
    }
   ],
   "source": [
    "\n",
    "# 1. Count the number of unique tokens in the sentence\n",
    "unique_tokens_count = len(set(tokens))\n",
    "# Display results\n",
    "print(\"Number of Unique Tokens:\", unique_tokens_count)"
   ]
  },
  {
   "cell_type": "code",
   "execution_count": 21,
   "id": "28f6cc0c",
   "metadata": {},
   "outputs": [
    {
     "name": "stdout",
     "output_type": "stream",
     "text": [
      "Number of Punctuation Characters: 1\n"
     ]
    }
   ],
   "source": [
    "# 2. Count the number of punctuation characters\n",
    "punct_count = sum(1 for char in sentence if char in string.punctuation)\n",
    "print(\"Number of Punctuation Characters:\", punct_count)"
   ]
  },
  {
   "cell_type": "code",
   "execution_count": null,
   "id": "a9534640",
   "metadata": {},
   "outputs": [],
   "source": []
  },
  {
   "cell_type": "code",
   "execution_count": 22,
   "id": "fbc787a7",
   "metadata": {},
   "outputs": [
    {
     "data": {
      "image/png": "[encoded data removed]",
      "text/plain": [
       "<Figure size 640x480 with 1 Axes>"
      ]
     },
     "metadata": {},
     "output_type": "display_data"
    }
   ],
   "source": [
    "# 3. Plot the distribution of each POS Tag using a barplot\n",
    "pos_tags = pos_tag(tokens)\n",
    "tag_freq = FreqDist(tag for (word, tag) in pos_tags)\n",
    "\n",
    "plt.bar(tag_freq.keys(), tag_freq.values())\n",
    "plt.title(\"POS Tag Distribution\")\n",
    "plt.xlabel(\"POS Tags\")\n",
    "plt.ylabel(\"Frequency\")\n",
    "plt.show()"
   ]
  },
  {
   "cell_type": "code",
   "execution_count": 23,
   "id": "9d143e5a",
   "metadata": {},
   "outputs": [
    {
     "name": "stdout",
     "output_type": "stream",
     "text": [
      "Number of Unique Lemmas: 14\n"
     ]
    }
   ],
   "source": [
    "# 4. Determine the number of unique lemmas available in the sentence\n",
    "lemmatizer = WordNetLemmatizer()\n",
    "lemmas = [lemmatizer.lemmatize(token) for token in tokens]\n",
    "unique_lemmas_count = len(set(lemmas))\n",
    "print(\"Number of Unique Lemmas:\", unique_lemmas_count)"
   ]
  },
  {
   "cell_type": "code",
   "execution_count": 26,
   "id": "a555f232",
   "metadata": {},
   "outputs": [
    {
     "data": {
      "image/png": "[encoded data removed]",
      "text/plain": [
       "<Figure size 640x480 with 1 Axes>"
      ]
     },
     "metadata": {},
     "output_type": "display_data"
    }
   ],
   "source": [
    "# 5. Plot the distribution of stopwords used in the sentence using barplot\n",
    "stop_words_freq = FreqDist(word for word in tokens if word in stopwords.words('english'))\n",
    "\n",
    "plt.bar(stop_words_freq.keys(), stop_words_freq.values())\n",
    "plt.title(\"Stopwords Distribution\")\n",
    "plt.xlabel(\"Stopwords\")\n",
    "plt.ylabel(\"Frequency\")\n",
    "plt.show()"
   ]
  },
  {
   "cell_type": "markdown",
   "id": "7a3dfb92",
   "metadata": {},
   "source": [
    "Conclusion\n",
    "\n",
    "\n",
    "In this tutorial, you have learned What is Text Analytics, NLP, and text mining?, Basics of text analytics operations using NLTK such as Tokenization, Normalization, Stemming, Lemmatization, and POS tagging.\n",
    "\n",
    "Natural language processing tasks in Python. By using NLTK, we can preprocess text data, convert it into a bag of words model, and perform textprocessing. "
   ]
  },
  {
   "cell_type": "markdown",
   "id": "45c9e059",
   "metadata": {},
   "source": []
  }
 ],
 "metadata": {
  "kernelspec": {
   "display_name": "Python 3 (ipykernel)",
   "language": "python",
   "name": "python3"
  },
  "language_info": {
   "codemirror_mode": {
    "name": "ipython",
    "version": 3
   },
   "file_extension": ".py",
   "mimetype": "text/x-python",
   "name": "python",
   "nbconvert_exporter": "python",
   "pygments_lexer": "ipython3",
   "version": "3.9.13"
  }
 },
 "nbformat": 4,
 "nbformat_minor": 5
}
